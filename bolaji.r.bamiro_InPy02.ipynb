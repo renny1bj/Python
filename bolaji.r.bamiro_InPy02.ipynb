{
 "cells": [
  {
   "cell_type": "markdown",
   "metadata": {},
   "source": [
    "## Question 1"
   ]
  },
  {
   "cell_type": "markdown",
   "metadata": {},
   "source": [
    "##### 1a. Write a python script that asks the user for the values of x and y and uses these inputs to compute the numerical value of the expression"
   ]
  },
  {
   "cell_type": "code",
   "execution_count": 13,
   "metadata": {},
   "outputs": [
    {
     "name": "stdout",
     "output_type": "stream",
     "text": [
      "Input a value for x: 1\n",
      "Input a value for y: 0\n",
      "1.0\n"
     ]
    }
   ],
   "source": [
    "import math\n",
    "x=int(input(\"Input a value for x: \"))\n",
    "y=int(input(\"Input a value for y: \"))\n",
    "def long_calc(x,y):\n",
    "    print ((((x**(2+y))**(1/2))/((1/x)+(2*math.sin(y)))))\n",
    "long_calc(x,y)\n"
   ]
  },
  {
   "cell_type": "markdown",
   "metadata": {},
   "source": [
    "## Question 2"
   ]
  },
  {
   "cell_type": "markdown",
   "metadata": {},
   "source": [
    "##### 2a. Write a function that given two integers b and n (n is positive), calculates b n without using python's power operator. "
   ]
  },
  {
   "cell_type": "code",
   "execution_count": 39,
   "metadata": {},
   "outputs": [
    {
     "name": "stdout",
     "output_type": "stream",
     "text": [
      "Input a value for b: 5\n",
      "Input a value for n: 2\n"
     ]
    },
    {
     "data": {
      "text/plain": [
       "25"
      ]
     },
     "execution_count": 39,
     "metadata": {},
     "output_type": "execute_result"
    }
   ],
   "source": [
    "b=int(input(\"Input a value for b: \"))\n",
    "n=int(input(\"Input a value for n: \"))\n",
    "def ownpowerfn(b,n): \n",
    "    B=1\n",
    "    for i in range(n):\n",
    "        B=B*b\n",
    "    return (B)\n",
    "ownpowerfn(b,n)    \n",
    "        "
   ]
  },
  {
   "cell_type": "markdown",
   "metadata": {},
   "source": [
    "##### 2b. What if we do not specify that n has to be positive?"
   ]
  },
  {
   "cell_type": "code",
   "execution_count": 4,
   "metadata": {},
   "outputs": [
    {
     "name": "stdout",
     "output_type": "stream",
     "text": [
      "Input a value for b: 2\n",
      "Input a value for n: 3\n"
     ]
    },
    {
     "data": {
      "text/plain": [
       "8"
      ]
     },
     "execution_count": 4,
     "metadata": {},
     "output_type": "execute_result"
    }
   ],
   "source": [
    "b=int(input(\"Input a value for b: \"))\n",
    "n=int(input(\"Input a value for n: \"))\n",
    "def ownpowerfn(b,n):\n",
    "    if n>=0:\n",
    "        B=1\n",
    "        for i in range(n):\n",
    "            B=B*b\n",
    "        return (B)\n",
    "    else:\n",
    "        B=1\n",
    "        for i in range(n,0):\n",
    "            B=B*b\n",
    "        return (1/B)\n",
    "ownpowerfn(b,n)"
   ]
  },
  {
   "cell_type": "markdown",
   "metadata": {},
   "source": [
    "## Question 3"
   ]
  },
  {
   "cell_type": "markdown",
   "metadata": {},
   "source": [
    "##### 3a. Write a function that takes two arguments, and computes their arithmetic and geometric means"
   ]
  },
  {
   "cell_type": "code",
   "execution_count": null,
   "metadata": {},
   "outputs": [],
   "source": [
    "n1= int(input(\"Enter the first number n: \"))\n",
    "n2= int(input(\"Enter the second number n: \"))\n",
    "def mean_val (n1,n2):\n",
    "    arithmetic_mean= ((n1+n2)/2)\n",
    "    geometric_mean= ((n1*n2)**(1/2))\n",
    "    print (\"The arithemetic mean of these two values is \",arithmetic_mean,\"while the geometric mean is\",geometric_mean)\n",
    "mean_val(n1,n2) "
   ]
  },
  {
   "cell_type": "markdown",
   "metadata": {},
   "source": [
    "##### 3b. Write a function that Converts degree Celsius to Fahrenheit and vice versa"
   ]
  },
  {
   "cell_type": "code",
   "execution_count": null,
   "metadata": {},
   "outputs": [],
   "source": [
    "num1= str(input(\"Do you want to change to celcius or fahrenheit. Input C or F: \"))\n",
    "num2= float(input(\"Enter the value\"))\n",
    "def temp_val (num1):\n",
    "    celcius_to_fahrenheit= (((9/5)*num2)+32)\n",
    "    fahrenheit_to_celcius= (((5/9)*(num2-32)))\n",
    "    if num1==\"F\":\n",
    "        print (\"The celcius_to_fahrenheit of this value is \",celcius_to_fahrenheit,\"F\")\n",
    "    if num1==\"C\":\n",
    "        print (\"The  of fahrenheit_to_celcius this value is \",fahrenheit_to_celcius, \"C\")\n",
    "temp_val(num1) "
   ]
  },
  {
   "cell_type": "markdown",
   "metadata": {},
   "source": [
    "##### 3c. Write a function that Converts angle in degrees to radians and vice versa"
   ]
  },
  {
   "cell_type": "code",
   "execution_count": null,
   "metadata": {},
   "outputs": [],
   "source": [
    "num1= str(input(\"Do you want to change to radian or degree. Input R or D: \"))\n",
    "num2= float(input(\"Enter the value\"))\n",
    "pi=(22/7)\n",
    "def angle_val (num1):\n",
    "    degrees_to_radians= ((pi*num2)/180)\n",
    "    radians_to_degrees= ((180*num2)/pi)\n",
    "    if num1==\"R\":\n",
    "        print (\"The degrees to radians of this value is \",degrees_to_radians)\n",
    "    if num1==\"D\":\n",
    "        print (\"The  of radians to degrees this value is \",radians_to_degrees)\n",
    "angle_val(num1)"
   ]
  },
  {
   "cell_type": "markdown",
   "metadata": {},
   "source": [
    "##### 3d. Write a function that Converts angle in degrees to radians and vice versa"
   ]
  },
  {
   "cell_type": "code",
   "execution_count": null,
   "metadata": {},
   "outputs": [],
   "source": [
    "num1= str(input(\"Do you want to get the circumference or area?. Input C or A: \"))\n",
    "num2= float(input(\"Enter the radius\"))\n",
    "pi=(22/7)\n",
    "def circle_val (num1):\n",
    "    circumference= (2*pi*num2)\n",
    "    area= (pi*(num2**2))\n",
    "    if num1==\"C\":\n",
    "        print (\"The circumference of the circle using this radius is \",circumference)\n",
    "    if num1==\"A\":\n",
    "        print (\"The area of the circle using this radius is \",area)\n",
    "circle_val(num1)"
   ]
  },
  {
   "cell_type": "markdown",
   "metadata": {},
   "source": [
    "## Question 4"
   ]
  },
  {
   "cell_type": "markdown",
   "metadata": {},
   "source": [
    "##### 4a. Write a program that given two numbers, it compute their average and geometrical mean 10 times, taking as input the means computed in the previous step"
   ]
  },
  {
   "cell_type": "code",
   "execution_count": null,
   "metadata": {},
   "outputs": [],
   "source": [
    "n1= int(input(\"Enter the first number n: \"))\n",
    "n2= int(input(\"Enter the second number n: \"))\n",
    "def art_mean(n1,n2):\n",
    "    a=((n1+n2)/2)\n",
    "    return (a)\n",
    "c=art_mean(n1,n2)    \n",
    "def geo_mean(n1,n2):\n",
    "    b= ((n1*n2)**(1/2))\n",
    "    return (b)\n",
    "d=geo_mean(n1,n2)\n",
    "def avggeom(c,d):\n",
    "    for i in range(10):\n",
    "        a_mean=((art_mean(c,d)+geo_mean(c,d))/2)\n",
    "        g_mean=((art_mean(c,d)*geo_mean(c,d))**(1/2))\n",
    "        print (a_mean,g_mean) \n",
    "        c=a_mean\n",
    "        d=g_mean\n",
    "avggeom(c,d)"
   ]
  },
  {
   "cell_type": "markdown",
   "metadata": {},
   "source": [
    "##### 4b. Write a program computes the distance between two points in the plane and use it in another program that computes the perimeter and the area of a triangle, given three points in the plane"
   ]
  },
  {
   "cell_type": "code",
   "execution_count": null,
   "metadata": {},
   "outputs": [],
   "source": [
    "x1= int(input(\"Enter the x1 n: \"))\n",
    "y1= int(input(\"Enter the y1 n: \"))\n",
    "x2= int(input(\"Enter the x2 n: \"))\n",
    "y2= int(input(\"Enter the y2 n: \"))\n",
    "x3= int(input(\"Enter the x3 n: \"))\n",
    "y3= int(input(\"Enter the y3 n: \"))\n",
    "midX=((x2-x1)/2)\n",
    "midY=((y2-y1)/2)\n",
    "def distancefn(x1,x2,y1,y2):\n",
    "    distance= ((((x2-x1)**2)+((y2-y1)**2))**(1/2))\n",
    "    return distance\n",
    "def perimetr(x1,x2,y1,y2,x3,y3):\n",
    "    perimeter=(distancefn(x1,x2,y1,y2) + distancefn(x2,x3,y2,y3) + distancefn(x1,x3,y1,y3))\n",
    "    return (perimeter)\n",
    "print (\"perimeter of the given coordinates is\",perimetr(x1,x2,y1,y2,x3,y3))\n",
    "def area(x1,x2,y1,y2,x3,y3):\n",
    "    rea=(((distancefn(x1,x2,y1,y2)*distancefn(midX,x2,midY,y2))/2))\n",
    "    return(rea)\n",
    "print (\"area of the triangle is \",area(x1,x2,y1,y2,x3,y3) )"
   ]
  },
  {
   "cell_type": "markdown",
   "metadata": {},
   "source": [
    "## Question 5"
   ]
  },
  {
   "cell_type": "markdown",
   "metadata": {},
   "source": [
    "##### 5. Write a program that offers three options to the user: Factorial, Second degree equation and Exit"
   ]
  },
  {
   "cell_type": "code",
   "execution_count": null,
   "metadata": {},
   "outputs": [],
   "source": [
    "w ='N'\n",
    "while True:\n",
    "    ak=(input(\"Do you want to evaluate a factorial 'F', or evaluate a second degree equation 'S' or exit early'E'\"))\n",
    "    if ak=='F':\n",
    "        n=int(input(\"Enter the number to factorize. n= \"))\n",
    "        def factorial(n):\n",
    "            if n==1:\n",
    "                print(\"The factorial is 1\")\n",
    "            elif n==0:\n",
    "                print (\"There is no such thing as factorial of 0\")\n",
    "            elif n>1:\n",
    "                f=1\n",
    "                for i in range(n):\n",
    "                    f=f*(n-i)\n",
    "                print(f)\n",
    "        factorial(n)            \n",
    "    if ak=='S':\n",
    "        a=int(input(\"Enter the 2nd power value. a= \"))\n",
    "        b=int(input(\"Enter the first power value. b= \"))\n",
    "        c=int(input(\"Enter the constant. c= \"))\n",
    "        def sec_deg(a,b,c):\n",
    "            k1=((-b+((b**2)-(4*a*c)))/(2*a))\n",
    "            k2=((-b-((b**2)-(4*a*c)))/(2*a))\n",
    "            print (\"The two solutions are\",k1,\"and\",k2)\n",
    "        sec_deg(a,b,c)    \n",
    "    if ak=='E':\n",
    "        break\n",
    "    w=(input(\"Do you want to exit, Y or N\"))  \n",
    "    if w=='Y':\n",
    "        break"
   ]
  },
  {
   "cell_type": "markdown",
   "metadata": {},
   "source": [
    "## Question 6"
   ]
  },
  {
   "cell_type": "markdown",
   "metadata": {},
   "source": [
    "##### 6. Write a program power(x,n) that implements the a recursion satisfing the equation given"
   ]
  },
  {
   "cell_type": "code",
   "execution_count": 1,
   "metadata": {},
   "outputs": [
    {
     "name": "stdout",
     "output_type": "stream",
     "text": [
      "Enter the x value. x= 3\n",
      "Enter the n value. n= 2\n"
     ]
    },
    {
     "data": {
      "text/plain": [
       "9"
      ]
     },
     "execution_count": 1,
     "metadata": {},
     "output_type": "execute_result"
    }
   ],
   "source": [
    "x= int(input(\"Enter the x value. x= \"))\n",
    "n= int(input(\"Enter the n value. n= \"))\n",
    "def power(x,n):\n",
    "    if n==0:\n",
    "        return 1\n",
    "    else:\n",
    "        return x* power(x,n-1)\n",
    "power(x,n)    "
   ]
  },
  {
   "cell_type": "markdown",
   "metadata": {},
   "source": [
    "## Question 7"
   ]
  },
  {
   "cell_type": "markdown",
   "metadata": {},
   "source": [
    "##### 7. Write a program that implements the Fibonacci sequence.Test your program at 100"
   ]
  },
  {
   "cell_type": "code",
   "execution_count": null,
   "metadata": {},
   "outputs": [],
   "source": [
    "def fib(n):\n",
    "    if n == 0 or n == 1:\n",
    "        return (n)\n",
    "    else:\n",
    "        return (fib(n - 1) + fib(n - 2))\n",
    "fib(100)\n",
    "#i have observed fib(100) takes a while, sit back and relax for one hour, it will show."
   ]
  }
 ],
 "metadata": {
  "kernelspec": {
   "display_name": "Python 3",
   "language": "python",
   "name": "python3"
  },
  "language_info": {
   "codemirror_mode": {
    "name": "ipython",
    "version": 3
   },
   "file_extension": ".py",
   "mimetype": "text/x-python",
   "name": "python",
   "nbconvert_exporter": "python",
   "pygments_lexer": "ipython3",
   "version": "3.7.3"
  }
 },
 "nbformat": 4,
 "nbformat_minor": 2
}
