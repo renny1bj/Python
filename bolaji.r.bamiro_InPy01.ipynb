{
 "cells": [
  {
   "cell_type": "markdown",
   "metadata": {},
   "source": [
    "## Excercise 1"
   ]
  },
  {
   "cell_type": "markdown",
   "metadata": {},
   "source": [
    "#### 1(i) and (ii)"
   ]
  },
  {
   "cell_type": "code",
   "execution_count": null,
   "metadata": {},
   "outputs": [],
   "source": [
    "n=int(input(\"Enter a natural number; N =\"))\n",
    "sum1=0\n",
    "sum2=1\n",
    "for i in range(n):\n",
    "    if i%2==1:\n",
    "        sum1 += i+3\n",
    "    else:\n",
    "        sum2 *= i+3\n",
    "print (sum1,sum2)\n",
    "    "
   ]
  },
  {
   "cell_type": "markdown",
   "metadata": {},
   "source": [
    "#### 2"
   ]
  },
  {
   "cell_type": "code",
   "execution_count": null,
   "metadata": {},
   "outputs": [],
   "source": [
    "day= int(input(\"Enter a number from 0-6 representing days of the week. N = \"))\n",
    "if day>6:\n",
    "    print (\"You have exceeded the value needed. change it\")\n",
    "elif day ==0:\n",
    "    print (\"It a working day which is Monday\")\n",
    "elif day ==1:\n",
    "    print (\"It a working day which is Tuesday\")\n",
    "elif day ==2:\n",
    "    print (\"It a working day which is Wednessday\")\n",
    "elif day ==3:\n",
    "    print (\"It a working day which is Thursday\")\n",
    "elif day ==4:\n",
    "    print (\"It a working day which is Friday\")\n",
    "elif day ==5 or day==6:\n",
    "    print (\"It a weekend\")\n",
    "else:\n",
    "    print (\"wrong input\")"
   ]
  },
  {
   "cell_type": "markdown",
   "metadata": {},
   "source": [
    "#### 3"
   ]
  },
  {
   "cell_type": "code",
   "execution_count": null,
   "metadata": {},
   "outputs": [],
   "source": [
    "month= int(input(\"Enter a number from 0-11 representing months of the year. N = \"))\n",
    "if month>11:\n",
    "    print (\"You have exceeded the value needed. change it\")\n",
    "elif month ==0:\n",
    "    print (\"January has 31 days\")\n",
    "elif month ==1:\n",
    "    print (\"Febuary has 28 days\")\n",
    "elif month ==2:\n",
    "    print (\"March has 31 days\")\n",
    "elif month ==3:\n",
    "    print (\"April has 30 days\")\n",
    "elif month ==4:\n",
    "    print (\"May has 31 days\")\n",
    "elif month ==5:\n",
    "    print (\"June has 30 days\")\n",
    "elif month ==6:\n",
    "    print (\"July has 31 days\")\n",
    "elif month ==7:\n",
    "    print (\"August has 31 days\")\n",
    "elif month ==8:\n",
    "    print (\"September has 30 days\")\n",
    "elif month ==9:\n",
    "    print (\"Ocotober has 31 days\")\n",
    "elif month ==10:\n",
    "    print (\"November has 30 days\")\n",
    "elif month ==11:\n",
    "    print (\"December has 31 days\")\n",
    "else:\n",
    "    print (\"wrong input\")"
   ]
  },
  {
   "cell_type": "markdown",
   "metadata": {},
   "source": [
    "#### 4"
   ]
  },
  {
   "cell_type": "code",
   "execution_count": null,
   "metadata": {},
   "outputs": [],
   "source": [
    "my_name= (input(\"What is your name? It is \"))\n",
    "for i in range (3):\n",
    "    print (my_name)"
   ]
  },
  {
   "cell_type": "code",
   "execution_count": null,
   "metadata": {},
   "outputs": [],
   "source": [
    "my_name= (input(\"What is your name? It is \"))\n",
    "i=0\n",
    "n=3\n",
    "while i<n:\n",
    "    i+=1\n",
    "    print (my_name)"
   ]
  },
  {
   "cell_type": "markdown",
   "metadata": {},
   "source": [
    "#### 5"
   ]
  },
  {
   "cell_type": "code",
   "execution_count": null,
   "metadata": {},
   "outputs": [],
   "source": [
    "a_not= int(input(\"Enter  initial value a for sequence. Input: \"))\n",
    "b_not= int(input(\"Enter  initial value b for sequence. Input: \"))\n",
    "for i in range(15):\n",
    "    a_not,b_not= b_not,a_not+b_not\n",
    "    print (b_not)"
   ]
  },
  {
   "cell_type": "markdown",
   "metadata": {},
   "source": [
    "#### 6"
   ]
  },
  {
   "cell_type": "code",
   "execution_count": null,
   "metadata": {},
   "outputs": [],
   "source": [
    "a_n= int(input(\"Enter  initial value x0 for sequence. Input: \"))\n",
    "b_n= int(input(\"Enter  initial value x1 for sequence. Input: \"))\n",
    "for i in range(30):\n",
    "    a_n,b_n= b_n,a_n*3+b_n/2\n",
    "    print (b_n)"
   ]
  },
  {
   "cell_type": "markdown",
   "metadata": {},
   "source": [
    "#### 7"
   ]
  },
  {
   "cell_type": "code",
   "execution_count": null,
   "metadata": {},
   "outputs": [],
   "source": [
    "leap_yr= int(input(\"Enter a year to check whether it is a leap year. Input: \"))\n",
    "if leap_yr%4 ==0 and leap_yr%100!=0 or leap_yr%400 ==0:\n",
    "    print (\"It is a leap year. Hurray\")\n",
    "else:\n",
    "    print (\"It is not a leap year. Yeah\")"
   ]
  },
  {
   "cell_type": "code",
   "execution_count": null,
   "metadata": {},
   "outputs": [],
   "source": [
    "leap_yrr= int(input(\"Enter a year to check whether it is a leap year. Input: \"))\n",
    "print (\"It is either true for leap year or false for not leap year. This is\")\n",
    "leap_yrr%4 ==0 and leap_yrr%100!=0 or leap_yrr%400 ==0"
   ]
  },
  {
   "cell_type": "markdown",
   "metadata": {},
   "source": [
    "8a."
   ]
  },
  {
   "cell_type": "code",
   "execution_count": 3,
   "metadata": {},
   "outputs": [
    {
     "name": "stdout",
     "output_type": "stream",
     "text": [
      "Enter a natural number; N =5\n",
      "30\n"
     ]
    }
   ],
   "source": [
    "b=int(input(\"Enter a natural number; N =\"))\n",
    "nat1=0\n",
    "for i in range(b):\n",
    "    nat1 = nat1+i**2\n",
    "print (nat1)"
   ]
  },
  {
   "cell_type": "code",
   "execution_count": null,
   "metadata": {},
   "outputs": [],
   "source": [
    "n=int(input(\"Enter a natural number; N =\"))\n",
    "i=0\n",
    "nat2=0\n",
    "while i<n:\n",
    "    nat2=nat2+i**2\n",
    "    i =i+1\n",
    "print (nat2)"
   ]
  },
  {
   "cell_type": "markdown",
   "metadata": {},
   "source": [
    "8b"
   ]
  },
  {
   "cell_type": "code",
   "execution_count": null,
   "metadata": {},
   "outputs": [],
   "source": [
    "L=int(input(\"Enter a natural number; N =\"))\n",
    "nat3=1\n",
    "for i in range(L):\n",
    "    nat3=nat3+i**2\n",
    "    if nat3 <= L:\n",
    "        continue    \n",
    "    elif nat3 >= L:\n",
    "        break\n",
    "print (i)\n",
    "    \n",
    "    "
   ]
  },
  {
   "cell_type": "code",
   "execution_count": null,
   "metadata": {},
   "outputs": [],
   "source": [
    "M=int(input(\"Enter a natural number; N =\"))\n",
    "nat4=1\n",
    "i=1\n",
    "while i<M:\n",
    "    nat4=nat4+i**2\n",
    "    i +=1\n",
    "    if nat4 <= M:\n",
    "        continue    \n",
    "    elif nat4 >= M:\n",
    "        break\n",
    "print (i-1)\n",
    "    \n",
    "    "
   ]
  },
  {
   "cell_type": "markdown",
   "metadata": {},
   "source": [
    "9a."
   ]
  },
  {
   "cell_type": "code",
   "execution_count": null,
   "metadata": {},
   "outputs": [],
   "source": [
    "div=int(input(\"Enter a natural number; N =\"))\n",
    "for i in range(1,div+1):\n",
    "    a=div%i\n",
    "    if a== 0:\n",
    "        print (i)\n",
    "    else:\n",
    "        continue"
   ]
  },
  {
   "cell_type": "markdown",
   "metadata": {},
   "source": [
    "9b."
   ]
  },
  {
   "cell_type": "code",
   "execution_count": 9,
   "metadata": {
    "scrolled": true
   },
   "outputs": [
    {
     "name": "stdout",
     "output_type": "stream",
     "text": [
      "Enter a number whose prime factor you need; n =2\n",
      "2\n"
     ]
    }
   ],
   "source": [
    "div=int(input(\"Enter a number whose prime factor you need; n =\"))\n",
    "for i in range(2,div+1):\n",
    "    if (div%i==0):\n",
    "        print (i)\n",
    "        div=div/i\n"
   ]
  },
  {
   "cell_type": "markdown",
   "metadata": {},
   "source": [
    "10."
   ]
  },
  {
   "cell_type": "code",
   "execution_count": null,
   "metadata": {},
   "outputs": [],
   "source": [
    "n=int(input(\"Enter a table width from 0 to 9; n =\"))\n",
    "N=int(input(\"Enter a table height number; N =\"))\n",
    "\n",
    "print(\"This is a\",n, \"by\",N,\"multiplication table\")\n",
    "print(\"-\" * 50)\n",
    "\n",
    "\n",
    "if (n <=9):\n",
    "    for i in range(1,N+1):\n",
    "        a=i\n",
    "        for j in range (1,n+1):\n",
    "            b=j\n",
    "            print(a, \"x\", b ,\"=\", \"%1d\" %(i*j)  , end=' ')\n",
    "        print() \n",
    "else:\n",
    "    print (\"You cannot enter a width number more than 9\")\n",
    "\n",
    "print(\"-\" * 50)"
   ]
  },
  {
   "cell_type": "markdown",
   "metadata": {},
   "source": [
    "11"
   ]
  },
  {
   "cell_type": "code",
   "execution_count": null,
   "metadata": {},
   "outputs": [],
   "source": [
    "for i in range(3,40):\n",
    "    if (i%3)==0 or (i%7)==0 or (i%11)==0:\n",
    "        print (i)\n",
    "    else:\n",
    "        continue"
   ]
  },
  {
   "cell_type": "markdown",
   "metadata": {},
   "source": [
    "12"
   ]
  },
  {
   "cell_type": "code",
   "execution_count": null,
   "metadata": {},
   "outputs": [],
   "source": [
    "n=float(input(\"Enter a number you want to convert: n =\"))\n",
    "a=type(n)\n",
    "b=int(n)\n",
    "c=1+int(n-1)\n",
    "d=int(n-1)\n",
    "if n == int:\n",
    "    print (\"The floor of\",n,\"is\",b)\n",
    "elif n>=1:\n",
    "    print (\"The floor of\",n,\"is\",c)\n",
    "elif n<=1:\n",
    "    print (\"The floor of\",n,\"is\",d)\n",
    "else:\n",
    "    pass\n",
    "   "
   ]
  },
  {
   "cell_type": "markdown",
   "metadata": {},
   "source": [
    "13"
   ]
  },
  {
   "cell_type": "code",
   "execution_count": null,
   "metadata": {
    "scrolled": true
   },
   "outputs": [],
   "source": [
    "x=int(input(\"Enter your x coordinate: x =\"))\n",
    "y=int(input(\"Enter your x coordinate: y =\"))\n",
    "if x>=0 and y>=0:\n",
    "    print (\"This coordinate is in the first quadrant\")\n",
    "if x<=0 and y>=0:\n",
    "    print (\"This coordinate is in the second quadrant\")\n",
    "if x<=0 and y<=0:\n",
    "    print (\"This coordinate is in the third quadrant\")\n",
    "if x>=0 and y<=0:\n",
    "    print (\"This coordinate is in the fourth quadrant\")\n",
    "if x==0 and y==0:\n",
    "    print (\"This coordinate is on the origin\")"
   ]
  },
  {
   "cell_type": "markdown",
   "metadata": {},
   "source": [
    "#### 14"
   ]
  },
  {
   "cell_type": "code",
   "execution_count": null,
   "metadata": {},
   "outputs": [
    {
     "name": "stdout",
     "output_type": "stream",
     "text": [
      "Enter a number from 0-9: x =5\n",
      "Enter a number from 0-256: x =78\n",
      "The multiples of 5 from 0 to 78 is as follows:\n",
      "5\n",
      "10\n",
      "15\n",
      "20\n",
      "25\n",
      "30\n",
      "35\n",
      "40\n",
      "45\n",
      "50\n",
      "55\n",
      "60\n",
      "65\n",
      "70\n",
      "75\n"
     ]
    }
   ],
   "source": [
    "z='yes'\n",
    "while True:\n",
    "    x=int(input(\"Enter a number from 0-9: x =\"))\n",
    "    while True:\n",
    "        if x>=0 and x<=9:\n",
    "            break\n",
    "        print (\"The number you entered is incorrect. Enter it again\")\n",
    "        x=int(input(\"Enter another number from 0-9 this time. Have sense o: x =\"))\n",
    "    \n",
    "    y=int(input(\"Enter a number from 0-256: x =\")) \n",
    "    print(\"The multiples of\",x,\"from 0 to\",y,\"is as follows:\")\n",
    "    while True:\n",
    "        if y>=0 and y<=256:\n",
    "            break\n",
    "        print (\"The number you entered is incorrect. Enter it again\")\n",
    "        y=int(input(\"Enter another number from 0-256 this time. You sure you have sense ?: x =\"))\n",
    "    for i in range (x,y+1):\n",
    "        a=i%x\n",
    "        if a==0:\n",
    "            print (i)\n",
    "    z=(input(\"Do you want to try again? Enter yes or no\"))\n",
    "    if z=='no':\n",
    "        print (\"Okay!\")\n",
    "        break\n",
    "                            \n",
    "            \n",
    "        "
   ]
  }
 ],
 "metadata": {
  "kernelspec": {
   "display_name": "Python 3",
   "language": "python",
   "name": "python3"
  },
  "language_info": {
   "codemirror_mode": {
    "name": "ipython",
    "version": 3
   },
   "file_extension": ".py",
   "mimetype": "text/x-python",
   "name": "python",
   "nbconvert_exporter": "python",
   "pygments_lexer": "ipython3",
   "version": "3.7.3"
  }
 },
 "nbformat": 4,
 "nbformat_minor": 2
}
