{
 "cells": [
  {
   "cell_type": "markdown",
   "metadata": {},
   "source": [
    "# 1. Strings    "
   ]
  },
  {
   "cell_type": "markdown",
   "metadata": {},
   "source": [
    "### 1a."
   ]
  },
  {
   "cell_type": "code",
   "execution_count": 7,
   "metadata": {},
   "outputs": [
    {
     "name": "stdout",
     "output_type": "stream",
     "text": [
      "Enter a letter you want to print backwards for no reason whatsoever : chinonso\n",
      "o\n",
      "s\n",
      "n\n",
      "o\n",
      "n\n",
      "i\n",
      "h\n",
      "c\n"
     ]
    }
   ],
   "source": [
    "x=(input(\"Enter a name you want to print backwards for no reason whatsoever : \"))\n",
    "def back_str(x):\n",
    "    y=(x[::-1])\n",
    "    for i in y:\n",
    "        print (i)\n",
    "back_str(x) "
   ]
  },
  {
   "cell_type": "markdown",
   "metadata": {},
   "source": [
    "### 1b(i) "
   ]
  },
  {
   "cell_type": "code",
   "execution_count": 8,
   "metadata": {},
   "outputs": [
    {
     "name": "stdout",
     "output_type": "stream",
     "text": [
      "Enter a name in an alphabetically increasing order : dfgd\n",
      "Enter a name in an alphabetically increasing order : fdaaa\n",
      "After sorting String is :  aaadddffg\n"
     ]
    }
   ],
   "source": [
    "k=(input(\"Enter a name in an alphabetically increasing order : \"))\n",
    "l=(input(\"Enter a name in an alphabetically increasing order : \"))\n",
    "lis = []\n",
    "p=k+l\n",
    "x = len(p)\n",
    "for i in range (0,x):\n",
    "    lis.append(p[i])\n",
    "for i in range(0,x):\n",
    "    for j in range(0,x):\n",
    "        if lis[i]<lis[j]:\n",
    "            st = lis[i]\n",
    "            lis[i]=lis[j]\n",
    "            lis[j]=st\n",
    "j=\"\"\n",
    "for i in range(0,x):\n",
    "    j = j+lis[i]\n",
    "\n",
    "print(\"After concatenating + sorting is, this is the result \",j)\n",
    "   "
   ]
  },
  {
   "cell_type": "markdown",
   "metadata": {},
   "source": [
    "### 1b(ii). The code above works even if the two strings contain repetitions"
   ]
  },
  {
   "cell_type": "markdown",
   "metadata": {},
   "source": [
    "### 1b(iii)"
   ]
  },
  {
   "cell_type": "code",
   "execution_count": 1,
   "metadata": {},
   "outputs": [
    {
     "name": "stdout",
     "output_type": "stream",
     "text": [
      "Enter an unsorted word: hmooo\n",
      "After sorting String is :  hmooo\n"
     ]
    }
   ],
   "source": [
    "u=(input(\"Enter an unsorted word: \"))\n",
    "def S(u):\n",
    "    lis = []\n",
    "    x= len(u)\n",
    "    for i in range (0,x):\n",
    "        lis.append(u[i])\n",
    "    for i in range(0,x):\n",
    "        for j in range(0,x):\n",
    "            if lis[i]<lis[j]:\n",
    "                st = lis[i]\n",
    "                lis[i]=lis[j]\n",
    "                lis[j]=st\n",
    "    j=\"\"\n",
    "    for i in range(0,x):\n",
    "        j = j+lis[i]\n",
    "\n",
    "    print(\"After sorting String is : \",j)\n",
    "S(u)    "
   ]
  },
  {
   "cell_type": "markdown",
   "metadata": {},
   "source": [
    "# 2. Searching"
   ]
  },
  {
   "cell_type": "markdown",
   "metadata": {},
   "source": [
    "### 2a"
   ]
  },
  {
   "cell_type": "code",
   "execution_count": 11,
   "metadata": {},
   "outputs": [
    {
     "name": "stdout",
     "output_type": "stream",
     "text": [
      "Enter a word: reality\n",
      "Enter the letter: y\n",
      "6\n"
     ]
    }
   ],
   "source": [
    "wd=(input(\"Enter a word: \"))\n",
    "lt=(input(\"Enter the letter: \"))\n",
    "def find(wd,lt):\n",
    "    a=wd.find(lt)\n",
    "    if a==0:\n",
    "        print (-1)\n",
    "    else:    \n",
    "        print (a)\n",
    "find(wd,lt)"
   ]
  },
  {
   "cell_type": "markdown",
   "metadata": {},
   "source": [
    "### 2b."
   ]
  },
  {
   "cell_type": "code",
   "execution_count": 12,
   "metadata": {},
   "outputs": [
    {
     "name": "stdout",
     "output_type": "stream",
     "text": [
      "Enter a word: yguidiwgwhvyhjkiix\n",
      "Enter the letter: x\n",
      "Enter the starting index: 5\n",
      "12\n"
     ]
    }
   ],
   "source": [
    "wd=(input(\"Enter a word: \"))\n",
    "lt=(input(\"Enter the letter: \"))\n",
    "init=int(input(\"Enter the starting index: \"))\n",
    "def find(wd,lt,init):\n",
    "    a=wd.find(lt)\n",
    "    if a==0:\n",
    "        print (-1)\n",
    "    else:   \n",
    "        b=int(a)\n",
    "        print (b-init)\n",
    "find(wd,lt,init)"
   ]
  },
  {
   "cell_type": "code",
   "execution_count": null,
   "metadata": {
    "collapsed": true
   },
   "outputs": [],
   "source": []
  }
 ],
 "metadata": {
  "kernelspec": {
   "display_name": "Python 3",
   "language": "python",
   "name": "python3"
  },
  "language_info": {
   "codemirror_mode": {
    "name": "ipython",
    "version": 3
   },
   "file_extension": ".py",
   "mimetype": "text/x-python",
   "name": "python",
   "nbconvert_exporter": "python",
   "pygments_lexer": "ipython3",
   "version": "3.7.3"
  }
 },
 "nbformat": 4,
 "nbformat_minor": 2
}
